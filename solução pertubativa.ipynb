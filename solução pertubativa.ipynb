{
 "cells": [
  {
   "cell_type": "code",
   "execution_count": 6,
   "id": "49b00ae8",
   "metadata": {},
   "outputs": [],
   "source": [
    "import numpy as np\n",
    "import matplotlib.pyplot as plt\n",
    "\n",
    "from scipy.special import eval_genlaguerre as lg\n",
    "from scipy.integrate import odeint\n",
    "from scipy.special import jv  # Bessel function of first kind and order v\n",
    "\n",
    "%matplotlib inline"
   ]
  },
  {
   "cell_type": "code",
   "execution_count": 7,
   "id": "38a297b8",
   "metadata": {},
   "outputs": [],
   "source": [
    "class Simulation:\n",
    "\n",
    "    def __init__(self, l, p=0, A=1):\n",
    "        self.lamb = 1064e-9  # [m]\n",
    "        self.w0 = 200e-6\n",
    "        self.k0 = 2 * np.pi / self.lamb\n",
    "        self.zR = self.k0 * self.w0 ** 2 /2  # [0.12m]\n",
    "        self.L = 200  # (number of points in xy plane)\n",
    "        self.N = 300  # (number of points in z axis)\n",
    "        self.p = p\n",
    "        self.l = l\n",
    "        self.A = A\n",
    "        self.c = 3 * 10 ** 8  # [m/s]\n",
    "        self.omega = self.c * self.k0  # [1/s]\n",
    "        self.chi3 = 1e-22  # commom value for chi3 in material\n",
    "        self.R = 2 / (np.pi * self.w0 ** 2)  # overlap constant \n",
    "        self.g = (3 * self.omega ** 2 * self.chi3 * self.R) / 2 * self.k0 * self.c\n",
    "        \n",
    "    def generate_grid(self):\n",
    "        self.x = np.linspace(-10 * self.w0, 10 * self.w0, self.L)  # [m]\n",
    "        self.y = np.linspace(-10 * self.w0, 10 * self.w0, self.L)  # [m]\n",
    "        self.X, self.Y = np.meshgrid(self.x, self.y)  # [m]\n",
    "        \n",
    "        self.r = np.sqrt(self.X ** 2 + self.Y ** 2)  # [m]\n",
    "        self.phi = np.arctan2(self.Y, self.X)  # [adimensional]\n",
    "        \n",
    "    def superposition_plot(self, zobs, saturation=None):\n",
    "        waist = self.w0 * np.sqrt(1 + (zobs / self.zR) ** 2)\n",
    "        self.r = self.r / waist\n",
    "\n",
    "        T1 = self.A * (np.sqrt(2) * self.r) ** abs(self.l)\n",
    "        T2 = np.exp(-(1 + 1j * zobs / self.zR) * self.r ** 2)\n",
    "        T3 = np.exp(1j * (2 * self.p + abs(self.l) + 1)\n",
    "                    * np.arctan(zobs / self.zR))\n",
    "        T4 = np.exp(1j * self.l * self.phi)\n",
    "        self.modolg = T1 * T2 * T3 * T4 * \\\n",
    "            lg(self.p, abs(self.l), 2 * self.r ** 2)\n",
    "\n",
    "        waist_renorm = self.w0 * np.sqrt(1 + (zobs) / self.zR ** 2)\n",
    "        self.r_norm = self.r / waist_renorm\n",
    "        T1n = self.A * (np.sqrt(2) * self.r) ** abs(self.l)\n",
    "        T2n = np.exp(-(1 + 1j * zobs / self.zR) * self.r ** 2)\n",
    "        T3n = np.exp(1j * (2 * self.p + abs(self.l) + 1)\n",
    "                     * np.arctan(zobs / self.zR))\n",
    "        T4n = np.exp(1j * self.l * self.phi)\n",
    "        cte = (self.g * self.A ** 3) / 3 ** ((3 * abs(self.l) + 1) / 2)\n",
    "        vortice = self.modolg\n",
    "        for p in range(1, abs(self.l) + 1):\n",
    "            vortice += 1j * zobs * cte * (T1n * T2n * T3n * T4n *\n",
    "                                          lg(p, abs(self.l), 2 * self.r ** 2))\n",
    "\n",
    "        plt.imshow(abs(vortice) ** 2, cmap='gray', vmax=saturation)\n",
    "        plt.axis('off')\n",
    "        plt.show()"
   ]
  },
  {
   "cell_type": "code",
   "execution_count": 9,
   "id": "e88dccaa",
   "metadata": {},
   "outputs": [
    {
     "ename": "AttributeError",
     "evalue": "'Simulation' object has no attribute 'r'",
     "output_type": "error",
     "traceback": [
      "\u001b[0;31m---------------------------------------------------------------------------\u001b[0m",
      "\u001b[0;31mAttributeError\u001b[0m                            Traceback (most recent call last)",
      "\u001b[0;32m<ipython-input-9-d3985948867d>\u001b[0m in \u001b[0;36m<module>\u001b[0;34m\u001b[0m\n\u001b[1;32m      8\u001b[0m \u001b[0;34m\u001b[0m\u001b[0m\n\u001b[1;32m      9\u001b[0m \u001b[0;32mif\u001b[0m \u001b[0m__name__\u001b[0m \u001b[0;34m==\u001b[0m \u001b[0;34m\"__main__\"\u001b[0m\u001b[0;34m:\u001b[0m\u001b[0;34m\u001b[0m\u001b[0;34m\u001b[0m\u001b[0m\n\u001b[0;32m---> 10\u001b[0;31m     \u001b[0mmain\u001b[0m\u001b[0;34m(\u001b[0m\u001b[0;34m)\u001b[0m\u001b[0;34m\u001b[0m\u001b[0;34m\u001b[0m\u001b[0m\n\u001b[0m",
      "\u001b[0;32m<ipython-input-9-d3985948867d>\u001b[0m in \u001b[0;36mmain\u001b[0;34m()\u001b[0m\n\u001b[1;32m      5\u001b[0m     \u001b[0;31m# simulator = Simulation(2)\u001b[0m\u001b[0;34m\u001b[0m\u001b[0;34m\u001b[0m\u001b[0;34m\u001b[0m\u001b[0m\n\u001b[1;32m      6\u001b[0m     \u001b[0msimulator\u001b[0m \u001b[0;34m=\u001b[0m \u001b[0mSimulation\u001b[0m\u001b[0;34m(\u001b[0m\u001b[0;36m3\u001b[0m\u001b[0;34m)\u001b[0m\u001b[0;34m\u001b[0m\u001b[0;34m\u001b[0m\u001b[0m\n\u001b[0;32m----> 7\u001b[0;31m     \u001b[0msimulator\u001b[0m\u001b[0;34m.\u001b[0m\u001b[0msuperposition_plot\u001b[0m\u001b[0;34m(\u001b[0m\u001b[0mzobs\u001b[0m\u001b[0;34m=\u001b[0m\u001b[0;36m1\u001b[0m\u001b[0;34m)\u001b[0m\u001b[0;34m\u001b[0m\u001b[0;34m\u001b[0m\u001b[0m\n\u001b[0m\u001b[1;32m      8\u001b[0m \u001b[0;34m\u001b[0m\u001b[0m\n\u001b[1;32m      9\u001b[0m \u001b[0;32mif\u001b[0m \u001b[0m__name__\u001b[0m \u001b[0;34m==\u001b[0m \u001b[0;34m\"__main__\"\u001b[0m\u001b[0;34m:\u001b[0m\u001b[0;34m\u001b[0m\u001b[0;34m\u001b[0m\u001b[0m\n",
      "\u001b[0;32m<ipython-input-7-65839304ec2b>\u001b[0m in \u001b[0;36msuperposition_plot\u001b[0;34m(self, zobs, saturation)\u001b[0m\n\u001b[1;32m     27\u001b[0m     \u001b[0;32mdef\u001b[0m \u001b[0msuperposition_plot\u001b[0m\u001b[0;34m(\u001b[0m\u001b[0mself\u001b[0m\u001b[0;34m,\u001b[0m \u001b[0mzobs\u001b[0m\u001b[0;34m,\u001b[0m \u001b[0msaturation\u001b[0m\u001b[0;34m=\u001b[0m\u001b[0;32mNone\u001b[0m\u001b[0;34m)\u001b[0m\u001b[0;34m:\u001b[0m\u001b[0;34m\u001b[0m\u001b[0;34m\u001b[0m\u001b[0m\n\u001b[1;32m     28\u001b[0m         \u001b[0mwaist\u001b[0m \u001b[0;34m=\u001b[0m \u001b[0mself\u001b[0m\u001b[0;34m.\u001b[0m\u001b[0mw0\u001b[0m \u001b[0;34m*\u001b[0m \u001b[0mnp\u001b[0m\u001b[0;34m.\u001b[0m\u001b[0msqrt\u001b[0m\u001b[0;34m(\u001b[0m\u001b[0;36m1\u001b[0m \u001b[0;34m+\u001b[0m \u001b[0;34m(\u001b[0m\u001b[0mzobs\u001b[0m \u001b[0;34m/\u001b[0m \u001b[0mself\u001b[0m\u001b[0;34m.\u001b[0m\u001b[0mzR\u001b[0m\u001b[0;34m)\u001b[0m \u001b[0;34m**\u001b[0m \u001b[0;36m2\u001b[0m\u001b[0;34m)\u001b[0m\u001b[0;34m\u001b[0m\u001b[0;34m\u001b[0m\u001b[0m\n\u001b[0;32m---> 29\u001b[0;31m         \u001b[0mself\u001b[0m\u001b[0;34m.\u001b[0m\u001b[0mr\u001b[0m \u001b[0;34m=\u001b[0m \u001b[0mself\u001b[0m\u001b[0;34m.\u001b[0m\u001b[0mr\u001b[0m \u001b[0;34m/\u001b[0m \u001b[0mwaist\u001b[0m\u001b[0;34m\u001b[0m\u001b[0;34m\u001b[0m\u001b[0m\n\u001b[0m\u001b[1;32m     30\u001b[0m \u001b[0;34m\u001b[0m\u001b[0m\n\u001b[1;32m     31\u001b[0m         \u001b[0mT1\u001b[0m \u001b[0;34m=\u001b[0m \u001b[0mself\u001b[0m\u001b[0;34m.\u001b[0m\u001b[0mA\u001b[0m \u001b[0;34m*\u001b[0m \u001b[0;34m(\u001b[0m\u001b[0mnp\u001b[0m\u001b[0;34m.\u001b[0m\u001b[0msqrt\u001b[0m\u001b[0;34m(\u001b[0m\u001b[0;36m2\u001b[0m\u001b[0;34m)\u001b[0m \u001b[0;34m*\u001b[0m \u001b[0mself\u001b[0m\u001b[0;34m.\u001b[0m\u001b[0mr\u001b[0m\u001b[0;34m)\u001b[0m \u001b[0;34m**\u001b[0m \u001b[0mabs\u001b[0m\u001b[0;34m(\u001b[0m\u001b[0mself\u001b[0m\u001b[0;34m.\u001b[0m\u001b[0ml\u001b[0m\u001b[0;34m)\u001b[0m\u001b[0;34m\u001b[0m\u001b[0;34m\u001b[0m\u001b[0m\n",
      "\u001b[0;31mAttributeError\u001b[0m: 'Simulation' object has no attribute 'r'"
     ]
    }
   ],
   "source": [
    "def main():\n",
    "    # ( l, A):\n",
    "    # simulator = Simulation(0)\n",
    "    # simulator = Simulation(1)\n",
    "    # simulator = Simulation(2)\n",
    "    simulator = Simulation(3)\n",
    "    simulator.generate\n",
    "\n",
    "if __name__ == \"__main__\":\n",
    "    main()"
   ]
  },
  {
   "cell_type": "code",
   "execution_count": null,
   "id": "2b7ecc9d",
   "metadata": {},
   "outputs": [],
   "source": []
  }
 ],
 "metadata": {
  "kernelspec": {
   "display_name": "Python 3",
   "language": "python",
   "name": "python3"
  },
  "language_info": {
   "codemirror_mode": {
    "name": "ipython",
    "version": 3
   },
   "file_extension": ".py",
   "mimetype": "text/x-python",
   "name": "python",
   "nbconvert_exporter": "python",
   "pygments_lexer": "ipython3",
   "version": "3.8.8"
  }
 },
 "nbformat": 4,
 "nbformat_minor": 5
}
